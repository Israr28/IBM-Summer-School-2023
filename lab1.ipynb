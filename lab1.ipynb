{
 "cells": [
  {
   "cell_type": "markdown",
   "id": "d9bef481",
   "metadata": {},
   "source": [
    "# Qiskit Global Summer School 2023 - Lab 1\n",
    "\n",
    "This lab shows you how to use Qiskit to implement some of the key concepts you learned in the first 3 lectures of the Qiskit Global Summer School 2023."
   ]
  },
  {
   "cell_type": "code",
   "execution_count": 1,
   "id": "d4749ad4",
   "metadata": {
    "tags": []
   },
   "outputs": [],
   "source": [
    "# required imports:\n",
    "from qiskit.visualization import array_to_latex\n",
    "from qiskit.quantum_info import Statevector, random_statevector\n",
    "from qiskit.quantum_info.operators import Operator, Pauli\n",
    "from qiskit import QuantumCircuit\n",
    "from qiskit.circuit.library import HGate, CXGate\n",
    "import numpy as np"
   ]
  },
  {
   "cell_type": "markdown",
   "id": "742da035",
   "metadata": {},
   "source": [
    "## Vectors and Dirac Notation"
   ]
  },
  {
   "cell_type": "markdown",
   "id": "808ec86f",
   "metadata": {},
   "source": [
    "In the lectures you learned different ways of representing quantum states, including how to use bra-ket (Dirac) notation.\n",
    "\n",
    "Although bra-ket notation cannot be represented exactly in code, we can represent their vector and matrix equivalent with python.\n",
    "\n",
    "E.g. we can represent $|0\\rangle$ using a python list:"
   ]
  },
  {
   "cell_type": "code",
   "execution_count": 2,
   "id": "b93989c8",
   "metadata": {
    "tags": []
   },
   "outputs": [],
   "source": [
    "ket0 = [[1],[0]]"
   ]
  },
  {
   "cell_type": "markdown",
   "id": "34428069",
   "metadata": {},
   "source": [
    "And we can use one of Qiskit's visualisation tools to make our vectors nicer to look at:"
   ]
  },
  {
   "cell_type": "code",
   "execution_count": 3,
   "id": "ee9b7eb0",
   "metadata": {
    "tags": []
   },
   "outputs": [
    {
     "data": {
      "text/latex": [
       "$$\n",
       "\n",
       "\\begin{bmatrix}\n",
       "1  \\\\\n",
       " 0  \\\\\n",
       " \\end{bmatrix}\n",
       "$$"
      ],
      "text/plain": [
       "<IPython.core.display.Latex object>"
      ]
     },
     "execution_count": 3,
     "metadata": {},
     "output_type": "execute_result"
    }
   ],
   "source": [
    "array_to_latex(ket0)"
   ]
  },
  {
   "cell_type": "markdown",
   "id": "a61be47b",
   "metadata": {},
   "source": [
    "We can do the same with $\\langle0|$:"
   ]
  },
  {
   "cell_type": "code",
   "execution_count": 4,
   "id": "25f9ff7e",
   "metadata": {
    "tags": []
   },
   "outputs": [
    {
     "data": {
      "text/latex": [
       "$$\n",
       "\n",
       "\\begin{bmatrix}\n",
       "1 & 0  \\\\\n",
       " \\end{bmatrix}\n",
       "$$"
      ],
      "text/plain": [
       "<IPython.core.display.Latex object>"
      ]
     },
     "execution_count": 4,
     "metadata": {},
     "output_type": "execute_result"
    }
   ],
   "source": [
    "bra0 = [1,0]\n",
    "array_to_latex(bra0)"
   ]
  },
  {
   "cell_type": "markdown",
   "id": "2cc359db",
   "metadata": {},
   "source": [
    "<div class=\"alert alert-block alert-success\"> Ex 1 - create $|1\\rangle$ and $\\langle1|$ with python lists </div>"
   ]
  },
  {
   "cell_type": "code",
   "execution_count": 5,
   "id": "59a7be22",
   "metadata": {
    "tags": []
   },
   "outputs": [],
   "source": [
    "ket1 = [[0],[1]]\n",
    "bra1 = [0,1]"
   ]
  },
  {
   "cell_type": "code",
   "execution_count": 6,
   "id": "dcc474ad",
   "metadata": {
    "tags": []
   },
   "outputs": [
    {
     "name": "stdout",
     "output_type": "stream",
     "text": [
      "Submitting your answer. Please wait...\n",
      "Failed: {'errors': [{'message': 'The challenge is not active', 'extensions': {'code': 'INVALID_QUERY'}}]}\n"
     ]
    }
   ],
   "source": [
    "from qc_grader.challenges.qgss_2023 import grade_lab1_ex1 \n",
    "\n",
    "grade_lab1_ex1([ket1, bra1])"
   ]
  },
  {
   "cell_type": "markdown",
   "id": "21b44ec9",
   "metadata": {},
   "source": [
    "## Qiskit `Statevector` Class\n",
    "\n",
    "In the lectures you learned about using state vectors to represent quantum states. You can represent quantum state vectors in code using Qiskit's [`Statevector` class](https://qiskit.org/documentation/stubs/qiskit.quantum_info.Statevector.html).\n",
    "\n",
    "Qiskit's `Statevector` class can take different forms of input (e.g. python list, numpy array, another state vector) to construct a state vector.\n",
    "\n",
    "Let's take the `bra0` object we created earlier and convert it to a `Statevector` object:"
   ]
  },
  {
   "cell_type": "code",
   "execution_count": 7,
   "id": "3ac7420a",
   "metadata": {
    "tags": []
   },
   "outputs": [
    {
     "name": "stdout",
     "output_type": "stream",
     "text": [
      "Statevector([1.+0.j, 0.+0.j],\n",
      "            dims=(2,))\n"
     ]
    }
   ],
   "source": [
    "sv_bra0 = Statevector(bra0)\n",
    "\n",
    "sv_bra0"
   ]
  },
  {
   "cell_type": "markdown",
   "id": "9d3015ec",
   "metadata": {},
   "source": [
    "The `Statevector` class has its own `draw()` method:"
   ]
  },
  {
   "cell_type": "code",
   "execution_count": 8,
   "id": "c7d0a57c",
   "metadata": {
    "tags": []
   },
   "outputs": [
    {
     "data": {
      "text/latex": [
       "$$ |0\\rangle$$"
      ],
      "text/plain": [
       "<IPython.core.display.Latex object>"
      ]
     },
     "execution_count": 8,
     "metadata": {},
     "output_type": "execute_result"
    }
   ],
   "source": [
    "sv_bra0.draw('latex')"
   ]
  },
  {
   "cell_type": "markdown",
   "id": "9a443d7b",
   "metadata": {},
   "source": [
    "We can create more complex statevectors with multiple qubits like this:"
   ]
  },
  {
   "cell_type": "code",
   "execution_count": 9,
   "id": "dc70f9c7",
   "metadata": {
    "tags": []
   },
   "outputs": [
    {
     "data": {
      "text/latex": [
       "$$\\frac{1}{2} |00\\rangle+\\frac{3}{4} |01\\rangle+\\frac{4}{5} |10\\rangle+\\frac{3}{4} |11\\rangle$$"
      ],
      "text/plain": [
       "<IPython.core.display.Latex object>"
      ]
     },
     "execution_count": 9,
     "metadata": {},
     "output_type": "execute_result"
    }
   ],
   "source": [
    "sv_eq = Statevector([1/2, 3/4, 4/5, 6/8])\n",
    "\n",
    "sv_eq.draw('latex')"
   ]
  },
  {
   "cell_type": "markdown",
   "id": "c7e00788",
   "metadata": {},
   "source": [
    "Note that the vector above is not a valid state vector as it is not normalised. \n",
    "We can check this with the `is_valid()` method:"
   ]
  },
  {
   "cell_type": "code",
   "execution_count": 10,
   "id": "8459bf73",
   "metadata": {
    "tags": []
   },
   "outputs": [
    {
     "data": {
      "text/plain": [
       "False"
      ]
     },
     "execution_count": 10,
     "metadata": {},
     "output_type": "execute_result"
    }
   ],
   "source": [
    "sv_eq.is_valid()"
   ]
  },
  {
   "cell_type": "markdown",
   "id": "a4b83945",
   "metadata": {},
   "source": [
    "<div class=\"alert alert-block alert-success\"> Ex 2 - create your own valid statevector object using the `Statevector` class </div>"
   ]
  },
  {
   "cell_type": "code",
   "execution_count": 11,
   "id": "02cfaf2f",
   "metadata": {
    "tags": []
   },
   "outputs": [],
   "source": [
    "sv_valid = Statevector([1 / np.sqrt(3), 0, 0, np.sqrt(2) / np.sqrt(3)])"
   ]
  },
  {
   "cell_type": "code",
   "execution_count": 12,
   "id": "ed497a1a",
   "metadata": {
    "tags": []
   },
   "outputs": [
    {
     "name": "stdout",
     "output_type": "stream",
     "text": [
      "Submitting your answer. Please wait...\n",
      "Failed: {'errors': [{'message': 'The challenge is not active', 'extensions': {'code': 'INVALID_QUERY'}}]}\n"
     ]
    }
   ],
   "source": [
    "from qc_grader.challenges.qgss_2023 import grade_lab1_ex2 \n",
    "\n",
    "grade_lab1_ex2(sv_valid)"
   ]
  },
  {
   "cell_type": "markdown",
   "id": "3faad35b",
   "metadata": {},
   "source": [
    "## Qiskit `Operator` Class\n",
    "\n",
    "The [`Operator` class](https://qiskit.org/documentation/stubs/qiskit.quantum_info.Operator.html#qiskit.quantum_info.Operator) is used in Qiskit to represent matrix operators acting on a quantum system. It has several methods to build composite operators using tensor products of smaller operators, and to compose operators.\n",
    "\n",
    "One way we can initialise a Qiskit `Operator` is by using a python list, like the one we created earlier:"
   ]
  },
  {
   "cell_type": "code",
   "execution_count": 13,
   "id": "180a544f",
   "metadata": {
    "tags": []
   },
   "outputs": [
    {
     "data": {
      "text/plain": [
       "Operator([1.+0.j, 0.+0.j],\n",
       "         input_dims=(), output_dims=(2,))"
      ]
     },
     "execution_count": 13,
     "metadata": {},
     "output_type": "execute_result"
    }
   ],
   "source": [
    "op_bra0 = Operator(bra0)\n",
    "\n",
    "op_bra0"
   ]
  },
  {
   "cell_type": "markdown",
   "id": "dc578df9",
   "metadata": {},
   "source": [
    "The Operator class comes with some handy methods for working with operators, for example we can find the tensor product of 2 operators by using the `tensor()` method:"
   ]
  },
  {
   "cell_type": "code",
   "execution_count": 14,
   "id": "7aed9441",
   "metadata": {
    "tags": []
   },
   "outputs": [
    {
     "data": {
      "text/plain": [
       "Operator([[1.+0.j, 0.+0.j],\n",
       "          [0.+0.j, 0.+0.j]],\n",
       "         input_dims=(), output_dims=(2, 2))"
      ]
     },
     "execution_count": 14,
     "metadata": {},
     "output_type": "execute_result"
    }
   ],
   "source": [
    "op_ket0 = Operator(ket0)\n",
    "op_bra0.tensor(op_ket0)"
   ]
  },
  {
   "cell_type": "markdown",
   "id": "e244f5a0",
   "metadata": {},
   "source": [
    "We'll use the `Operator` and `Statevector` classes more in the following exercises."
   ]
  },
  {
   "cell_type": "markdown",
   "id": "208cf2b6",
   "metadata": {},
   "source": [
    "## Inner & Outer Product\n",
    "\n",
    "In the lectures you covered the concepts of the inner and outer product. We can explore these concepts in code using numpy methods `.dot()` (the inner product is a generalised form of the dot product) and `.outer()`.\n",
    "\n",
    "For example, we can find the inner product $\\langle0|0\\rangle$ like this:"
   ]
  },
  {
   "cell_type": "code",
   "execution_count": 15,
   "id": "cf3cb816",
   "metadata": {},
   "outputs": [
    {
     "data": {
      "text/latex": [
       "$$\n",
       "\n",
       "\\begin{bmatrix}\n",
       "1  \\\\\n",
       " \\end{bmatrix}\n",
       "$$"
      ],
      "text/plain": [
       "<IPython.core.display.Latex object>"
      ]
     },
     "execution_count": 15,
     "metadata": {},
     "output_type": "execute_result"
    }
   ],
   "source": [
    "braket = np.dot(op_bra0,op_ket0)\n",
    "array_to_latex(braket)"
   ]
  },
  {
   "cell_type": "markdown",
   "id": "e5d604d7",
   "metadata": {},
   "source": [
    "and the outer product $|0\\rangle\\langle0|$ like this:"
   ]
  },
  {
   "cell_type": "code",
   "execution_count": 16,
   "id": "73232e3d",
   "metadata": {
    "tags": []
   },
   "outputs": [
    {
     "data": {
      "text/latex": [
       "$$\n",
       "\n",
       "\\begin{bmatrix}\n",
       "1 & 0  \\\\\n",
       " 0 & 0  \\\\\n",
       " \\end{bmatrix}\n",
       "$$"
      ],
      "text/plain": [
       "<IPython.core.display.Latex object>"
      ]
     },
     "execution_count": 16,
     "metadata": {},
     "output_type": "execute_result"
    }
   ],
   "source": [
    "ketbra = np.outer(ket0,bra0)\n",
    "array_to_latex(ketbra)"
   ]
  },
  {
   "cell_type": "code",
   "execution_count": 17,
   "id": "98e2ba66",
   "metadata": {},
   "outputs": [
    {
     "data": {
      "text/latex": [
       "$$\n",
       "\n",
       "\\begin{bmatrix}\n",
       "1  \\\\\n",
       " \\end{bmatrix}\n",
       "$$"
      ],
      "text/plain": [
       "<IPython.core.display.Latex object>"
      ]
     },
     "execution_count": 17,
     "metadata": {},
     "output_type": "execute_result"
    }
   ],
   "source": [
    "braket = np.dot(op_bra0,op_ket0)\n",
    "array_to_latex(braket)"
   ]
  },
  {
   "cell_type": "markdown",
   "id": "cdca2a30",
   "metadata": {},
   "source": [
    "Note: the numpy methods we used above work with Qiskit Operators as well as regular python lists."
   ]
  },
  {
   "cell_type": "markdown",
   "id": "2dc9ed02",
   "metadata": {},
   "source": [
    "<div class=\"alert alert-block alert-success\"> Ex 3 - use numpy to find the result of the following inner and outer products: $\\langle1|0\\rangle, \\langle0|1\\rangle, \\langle1|1\\rangle, |1\\rangle\\langle0|, |0\\rangle\\langle1|$ and $|1\\rangle\\langle1| $ </div>"
   ]
  },
  {
   "cell_type": "code",
   "execution_count": 18,
   "id": "72e1bb34",
   "metadata": {
    "tags": []
   },
   "outputs": [],
   "source": [
    "bra1ket0 = np.dot(np.array([[1,0]]), np.array([0, 1])) # put your answer for ⟨1|0⟩ here\n",
    "\n",
    "bra0ket1 = np.dot(np.array([[1,0]]), np.array([0, 1])) # put your answer for ⟨0|1⟩ here\n",
    "\n",
    "bra1ket1 = np.dot(np.array([[0, 1]]), np.array([0, 1])) # put your answer for ⟨1|1⟩ here\n",
    "\n",
    "ket1bra0 = np.outer(np.array([[0], [1]]), np.array([[1, 0]])) # put your answer for |1⟩⟨0| here\n",
    "\n",
    "ket0bra1 = np.outer(np.array([[1], [0]]), np.array([[0, 1]])) # put your answer for |0⟩⟨1| here\n",
    "\n",
    "ket1bra1 = np.outer(np.array([[0], [1]]), np.array([[0, 1]])) # put your answer for |1⟩⟨1| here"
   ]
  },
  {
   "cell_type": "code",
   "execution_count": 19,
   "id": "37b9cf70",
   "metadata": {
    "tags": []
   },
   "outputs": [
    {
     "name": "stdout",
     "output_type": "stream",
     "text": [
      "Submitting your answer. Please wait...\n",
      "Failed: {'errors': [{'message': 'The challenge is not active', 'extensions': {'code': 'INVALID_QUERY'}}]}\n"
     ]
    }
   ],
   "source": [
    "from qc_grader.challenges.qgss_2023 import grade_lab1_ex3 \n",
    "\n",
    "grade_lab1_ex3([bra1ket0, bra0ket1, bra1ket1, ket1bra0, ket0bra1, ket1bra1])"
   ]
  },
  {
   "cell_type": "markdown",
   "id": "7c03e06d",
   "metadata": {},
   "source": [
    "<div class=\"alert alert-block alert-success\"> \n",
    "    <p> Ex 4 - when the inner product of 2 quantum states is equal to 0, those states are orthogonal. Which of the following states are orthogonal? </p>\n",
    "    <p>a) $\\vert 0\\rangle$ and $\\vert 1\\rangle$ </p>\n",
    "    <p>b) $\\vert 0\\rangle$ and $\\vert 0\\rangle$ </p>\n",
    "    <p>c) $\\vert 1\\rangle$ and $\\vert 1\\rangle$ </p>\n",
    "</div>"
   ]
  },
  {
   "cell_type": "code",
   "execution_count": 20,
   "id": "6e061263",
   "metadata": {
    "tags": []
   },
   "outputs": [],
   "source": [
    "# add or remove your answer from this list\n",
    "answer = ['a']"
   ]
  },
  {
   "cell_type": "code",
   "execution_count": 21,
   "id": "bf314ab5",
   "metadata": {
    "tags": []
   },
   "outputs": [
    {
     "name": "stdout",
     "output_type": "stream",
     "text": [
      "Submitting your answer. Please wait...\n",
      "Failed: {'errors': [{'message': 'The challenge is not active', 'extensions': {'code': 'INVALID_QUERY'}}]}\n"
     ]
    }
   ],
   "source": [
    "from qc_grader.challenges.qgss_2023 import grade_lab1_ex4 \n",
    "\n",
    "grade_lab1_ex4(answer)"
   ]
  },
  {
   "cell_type": "markdown",
   "id": "e695b37a",
   "metadata": {},
   "source": [
    "## Deterministic operations\n",
    "\n",
    "As mentioned in the lectures, there are 4 single bit deterministic operations:  \n",
    "f1 = constant-0  \n",
    "f2 = identity  \n",
    "f3 = bit flip / not  \n",
    "f4 = constant-1\n",
    "\n",
    "$$\n",
    "\\begin{array}{c|c}\n",
    "  a & f_1(a)\\\\\n",
    "  \\hline\n",
    "  0 & 0\\\\\n",
    "  1 & 0\n",
    "\\end{array}\n",
    "\\qquad\n",
    "\\begin{array}{c|c}\n",
    "  a & f_2(a)\\\\\n",
    "  \\hline\n",
    "  0 & 0\\\\\n",
    "  1 & 1\n",
    "\\end{array}\n",
    "\\qquad\n",
    "\\begin{array}{c|c}\n",
    "  a & f_3(a)\\\\\n",
    "  \\hline\n",
    "  0 & 1\\\\\n",
    "  1 & 0\n",
    "\\end{array}\n",
    "\\qquad\n",
    "\\begin{array}{c|c}\n",
    "  a & f_4(a)\\\\\n",
    "  \\hline\n",
    "  0 & 1\\\\\n",
    "  1 & 1\n",
    "\\end{array}\n",
    "$$\n",
    "\n",
    "We can create Qiskit Operators for these 4 operations, by passing their matrix representations as arguments to the `Operator` class.\n",
    "\n",
    "E.g. for constant-0 we can create the corresponding matrix m1 like so:"
   ]
  },
  {
   "cell_type": "code",
   "execution_count": 22,
   "id": "8edc4262",
   "metadata": {
    "tags": []
   },
   "outputs": [
    {
     "data": {
      "text/latex": [
       "$$\n",
       "\n",
       "\\begin{bmatrix}\n",
       "1 & 1  \\\\\n",
       " 0 & 0  \\\\\n",
       " \\end{bmatrix}\n",
       "$$"
      ],
      "text/plain": [
       "<IPython.core.display.Latex object>"
      ]
     },
     "execution_count": 22,
     "metadata": {},
     "output_type": "execute_result"
    }
   ],
   "source": [
    "m1 = Operator([[1,1],[0,0]])\n",
    "array_to_latex(m1)"
   ]
  },
  {
   "cell_type": "markdown",
   "id": "2792a781",
   "metadata": {},
   "source": [
    "and similarly for m3:"
   ]
  },
  {
   "cell_type": "code",
   "execution_count": 23,
   "id": "9cc2ff6c",
   "metadata": {
    "tags": []
   },
   "outputs": [
    {
     "data": {
      "text/latex": [
       "$$\n",
       "\n",
       "\\begin{bmatrix}\n",
       "0 & 1  \\\\\n",
       " 1 & 0  \\\\\n",
       " \\end{bmatrix}\n",
       "$$"
      ],
      "text/plain": [
       "<IPython.core.display.Latex object>"
      ]
     },
     "execution_count": 23,
     "metadata": {},
     "output_type": "execute_result"
    }
   ],
   "source": [
    "m3 = Operator([[0,1],[1,0]])\n",
    "array_to_latex(m3)"
   ]
  },
  {
   "cell_type": "markdown",
   "id": "765e8f0e",
   "metadata": {},
   "source": [
    "We can also use builtin python mutliplication operations (e.g. `@`, `.dot`, or `.matmul`) to check the following equation: $ M|a\\rangle = f|a\\rangle $\n",
    "\n",
    "e.g. $ M1|0\\rangle = f1|0\\rangle $ = 0"
   ]
  },
  {
   "cell_type": "code",
   "execution_count": 24,
   "id": "a283a8bd",
   "metadata": {
    "tags": []
   },
   "outputs": [
    {
     "data": {
      "text/latex": [
       "$$\n",
       "\n",
       "\\begin{bmatrix}\n",
       "1  \\\\\n",
       " 0  \\\\\n",
       " \\end{bmatrix}\n",
       "$$"
      ],
      "text/plain": [
       "<IPython.core.display.Latex object>"
      ]
     },
     "execution_count": 24,
     "metadata": {},
     "output_type": "execute_result"
    }
   ],
   "source": [
    "array_to_latex(m1@ket0)"
   ]
  },
  {
   "cell_type": "markdown",
   "id": "f044b3f6",
   "metadata": {},
   "source": [
    "<div class=\"alert alert-block alert-success\"> Ex 5 - create Qiskit Operators for m2 and m4 (hint: check out the lectures to find the appropriate matrices) </div>"
   ]
  },
  {
   "cell_type": "code",
   "execution_count": 25,
   "id": "31927dfa",
   "metadata": {
    "tags": []
   },
   "outputs": [],
   "source": [
    "m2 = Operator([[1,0],[0,1]]) # create an operator for m2 here\n",
    "m4 = Operator([[0,0],[1,1]])# create and operator for m4 here"
   ]
  },
  {
   "cell_type": "code",
   "execution_count": 26,
   "id": "62081ac6",
   "metadata": {
    "tags": []
   },
   "outputs": [
    {
     "name": "stdout",
     "output_type": "stream",
     "text": [
      "Submitting your answer. Please wait...\n",
      "Failed: {'errors': [{'message': 'The challenge is not active', 'extensions': {'code': 'INVALID_QUERY'}}]}\n"
     ]
    }
   ],
   "source": [
    "from qc_grader.challenges.qgss_2023 import grade_lab1_ex5\n",
    "\n",
    "grade_lab1_ex5([m2, m4])"
   ]
  },
  {
   "cell_type": "markdown",
   "id": "d611468d",
   "metadata": {},
   "source": [
    "## Probabilistic operations\n",
    "\n",
    "A Controlled-NOT (or CNOT) operation is a probabilistic operation you can apply on 2 qubits.\n",
    "\n",
    "Applying a CNOT on a state (X,Y) involves performing a NOT operation on Y when X is 1, otherwise do nothing.\n",
    "X is the control bit, Y is the target bit.\n",
    "\n",
    "We can implement a CNOT gate (and many other quantum gates) using a class from [Qiskit's circuit library](https://qiskit.org/documentation/apidoc/circuit_library.html):"
   ]
  },
  {
   "cell_type": "code",
   "execution_count": 27,
   "id": "d6aec987",
   "metadata": {
    "tags": []
   },
   "outputs": [
    {
     "data": {
      "text/latex": [
       "$$\n",
       "\n",
       "\\begin{bmatrix}\n",
       "1 & 0 & 0 & 0  \\\\\n",
       " 0 & 0 & 0 & 1  \\\\\n",
       " 0 & 0 & 1 & 0  \\\\\n",
       " 0 & 1 & 0 & 0  \\\\\n",
       " \\end{bmatrix}\n",
       "$$"
      ],
      "text/plain": [
       "<IPython.core.display.Latex object>"
      ]
     },
     "execution_count": 27,
     "metadata": {},
     "output_type": "execute_result"
    }
   ],
   "source": [
    "cnot = CXGate()\n",
    "\n",
    "array_to_latex(cnot)"
   ]
  },
  {
   "cell_type": "markdown",
   "id": "49ee11bb",
   "metadata": {},
   "source": [
    "Note: this matrix is different from the one that appeared in the lesson because `CXGate()` takes the right qubit to be the control rather than the left qubit."
   ]
  },
  {
   "cell_type": "markdown",
   "id": "bd0665bc",
   "metadata": {},
   "source": [
    "## Unitary Operations\n",
    "\n",
    "An operator is unitary if: $ UU^{\\dagger} = \\mathbb{1} = U^{\\dagger} U$\n",
    "\n",
    "We can check if an operator is Unitary using Qiskit with the `is_unitary()` method:"
   ]
  },
  {
   "cell_type": "code",
   "execution_count": 28,
   "id": "83e80fd5",
   "metadata": {
    "tags": []
   },
   "outputs": [
    {
     "data": {
      "text/plain": [
       "True"
      ]
     },
     "execution_count": 28,
     "metadata": {},
     "output_type": "execute_result"
    }
   ],
   "source": [
    "m3.is_unitary()"
   ]
  },
  {
   "cell_type": "markdown",
   "id": "ef61f742",
   "metadata": {},
   "source": [
    "With small operators like m3 we could probably figure this out easily by ourselves, but with more complex operators it becomes more convenient to use the Qiskit function:"
   ]
  },
  {
   "cell_type": "code",
   "execution_count": 29,
   "id": "90fa7840",
   "metadata": {
    "tags": []
   },
   "outputs": [
    {
     "data": {
      "text/plain": [
       "True"
      ]
     },
     "execution_count": 29,
     "metadata": {},
     "output_type": "execute_result"
    }
   ],
   "source": [
    "random = Operator(np.array([[ 0.50778085-0.44607116j, -0.1523741 +0.14128434j,  0.44607116+0.50778085j,\n",
    "  -0.14128434-0.1523741j ],\n",
    " [ 0.16855994+0.12151822j,  0.55868196+0.38038841j, -0.12151822+0.16855994j,\n",
    "  -0.38038841+0.55868196j],\n",
    " [ 0.50778085-0.44607116j, -0.1523741 +0.14128434j, -0.44607116-0.50778085j,\n",
    "   0.14128434+0.1523741j ],\n",
    " [ 0.16855994+0.12151822j,  0.55868196+0.38038841j,  0.12151822-0.16855994j,\n",
    "   0.38038841-0.55868196j]]))\n",
    "\n",
    "random.is_unitary()"
   ]
  },
  {
   "cell_type": "markdown",
   "id": "e6778ed6",
   "metadata": {},
   "source": [
    "<div class=\"alert alert-block alert-success\"> Ex 6 - create an operator using the `Operator` class that is not unitary </div>"
   ]
  },
  {
   "cell_type": "code",
   "execution_count": 30,
   "id": "c43f5bbf",
   "metadata": {
    "tags": []
   },
   "outputs": [],
   "source": [
    "non_unitary_op = Operator( 2 * np.array([[1, 0], [0, 0]]) + np.array([[0, 0], [0, 1]]))# create your operator here"
   ]
  },
  {
   "cell_type": "code",
   "execution_count": 31,
   "id": "c159e466",
   "metadata": {
    "tags": []
   },
   "outputs": [
    {
     "name": "stdout",
     "output_type": "stream",
     "text": [
      "Submitting your answer. Please wait...\n",
      "Failed: {'errors': [{'message': 'The challenge is not active', 'extensions': {'code': 'INVALID_QUERY'}}]}\n"
     ]
    }
   ],
   "source": [
    "from qc_grader.challenges.qgss_2023 import grade_lab1_ex6\n",
    "\n",
    "grade_lab1_ex6(non_unitary_op)"
   ]
  },
  {
   "cell_type": "markdown",
   "id": "220179f8",
   "metadata": {},
   "source": [
    "### Qubit Unitary Operations - Pauli Operations\n",
    "\n",
    "Some of the most common unitary operations in quantum computing are the Pauli operations. Qiskit's `Pauli` classes make it easy to interact with Pauli operators in code:"
   ]
  },
  {
   "cell_type": "markdown",
   "id": "26c5fec2",
   "metadata": {},
   "source": [
    "E.g. Pauli X ($\\sigma_x$), the bit flip:"
   ]
  },
  {
   "cell_type": "code",
   "execution_count": 32,
   "id": "290462f3",
   "metadata": {
    "tags": []
   },
   "outputs": [
    {
     "data": {
      "text/latex": [
       "$$\n",
       "\n",
       "\\begin{bmatrix}\n",
       "0 & 1  \\\\\n",
       " 1 & 0  \\\\\n",
       " \\end{bmatrix}\n",
       "$$"
      ],
      "text/plain": [
       "<IPython.core.display.Latex object>"
      ]
     },
     "execution_count": 32,
     "metadata": {},
     "output_type": "execute_result"
    }
   ],
   "source": [
    "pauli_x = Pauli('X')\n",
    "\n",
    "array_to_latex(pauli_x)"
   ]
  },
  {
   "cell_type": "markdown",
   "id": "ff2d5d30",
   "metadata": {},
   "source": [
    "Pauli Y ($\\sigma_y$):"
   ]
  },
  {
   "cell_type": "code",
   "execution_count": 33,
   "id": "21b32f55",
   "metadata": {
    "tags": []
   },
   "outputs": [
    {
     "data": {
      "text/latex": [
       "$$\n",
       "\n",
       "\\begin{bmatrix}\n",
       "0 & - i  \\\\\n",
       " i & 0  \\\\\n",
       " \\end{bmatrix}\n",
       "$$"
      ],
      "text/plain": [
       "<IPython.core.display.Latex object>"
      ]
     },
     "execution_count": 33,
     "metadata": {},
     "output_type": "execute_result"
    }
   ],
   "source": [
    "pauli_y = Pauli('Y')\n",
    "\n",
    "array_to_latex(pauli_y)"
   ]
  },
  {
   "cell_type": "markdown",
   "id": "c9850043",
   "metadata": {},
   "source": [
    "Pauli Z ($\\sigma_z$), the phase flip:"
   ]
  },
  {
   "cell_type": "code",
   "execution_count": 34,
   "id": "9df1dff2",
   "metadata": {
    "tags": []
   },
   "outputs": [
    {
     "data": {
      "text/latex": [
       "$$\n",
       "\n",
       "\\begin{bmatrix}\n",
       "1 & 0  \\\\\n",
       " 0 & -1  \\\\\n",
       " \\end{bmatrix}\n",
       "$$"
      ],
      "text/plain": [
       "<IPython.core.display.Latex object>"
      ]
     },
     "execution_count": 34,
     "metadata": {},
     "output_type": "execute_result"
    }
   ],
   "source": [
    "pauli_z = Pauli('Z')\n",
    "\n",
    "array_to_latex(pauli_z)"
   ]
  },
  {
   "cell_type": "markdown",
   "id": "bdfa41f0",
   "metadata": {},
   "source": [
    "We can use the `Operator` class with the `Pauli` class:"
   ]
  },
  {
   "cell_type": "code",
   "execution_count": 35,
   "id": "71eb657f",
   "metadata": {
    "tags": []
   },
   "outputs": [
    {
     "data": {
      "text/plain": [
       "Operator([[0.+0.j, 1.+0.j],\n",
       "          [1.+0.j, 0.+0.j]],\n",
       "         input_dims=(2,), output_dims=(2,))"
      ]
     },
     "execution_count": 35,
     "metadata": {},
     "output_type": "execute_result"
    }
   ],
   "source": [
    "op_x = Operator(pauli_x)\n",
    "\n",
    "op_x"
   ]
  },
  {
   "cell_type": "markdown",
   "id": "22a1dc55",
   "metadata": {},
   "source": [
    "Let's use the `Operator` class and numpy to find the outcome of $\\sigma_x|0\\rangle$"
   ]
  },
  {
   "cell_type": "code",
   "execution_count": 36,
   "id": "a3b46f65",
   "metadata": {
    "tags": []
   },
   "outputs": [
    {
     "data": {
      "text/latex": [
       "$$\n",
       "\n",
       "\\begin{bmatrix}\n",
       "0  \\\\\n",
       " 1  \\\\\n",
       " \\end{bmatrix}\n",
       "$$"
      ],
      "text/plain": [
       "<IPython.core.display.Latex object>"
      ]
     },
     "execution_count": 36,
     "metadata": {},
     "output_type": "execute_result"
    }
   ],
   "source": [
    "op_new = np.dot(op_x,ket0)\n",
    "\n",
    "array_to_latex(op_new)"
   ]
  },
  {
   "cell_type": "markdown",
   "id": "0434735a",
   "metadata": {},
   "source": [
    "<div class=\"alert alert-block alert-success\"> Ex 7 - Apply the Pauli-Z operator on $|1\\rangle$ </div>"
   ]
  },
  {
   "cell_type": "code",
   "execution_count": 37,
   "id": "11ea5267",
   "metadata": {
    "tags": []
   },
   "outputs": [],
   "source": [
    "result = np.dot(np.array([[1, 0], [0, -1]]), np.array([[0], [1]]))# do your operations here"
   ]
  },
  {
   "cell_type": "code",
   "execution_count": 38,
   "id": "694825bd",
   "metadata": {
    "tags": []
   },
   "outputs": [
    {
     "name": "stdout",
     "output_type": "stream",
     "text": [
      "Submitting your answer. Please wait...\n",
      "Failed: {'errors': [{'message': 'The challenge is not active', 'extensions': {'code': 'INVALID_QUERY'}}]}\n"
     ]
    }
   ],
   "source": [
    "from qc_grader.challenges.qgss_2023 import grade_lab1_ex7\n",
    "\n",
    "grade_lab1_ex7(result)"
   ]
  },
  {
   "cell_type": "markdown",
   "id": "677ab1ec",
   "metadata": {},
   "source": [
    "### Qubit Unitary Operations - Hadamard\n"
   ]
  },
  {
   "cell_type": "markdown",
   "id": "1fa9f846",
   "metadata": {},
   "source": [
    "The Hadamard gate is one of the most important unitary operations in quantum computing. We can implement a Hadamard gate (and many other quantum gates) using a class from [Qiskit's circuit library](https://qiskit.org/documentation/apidoc/circuit_library.html):"
   ]
  },
  {
   "cell_type": "code",
   "execution_count": 39,
   "id": "74251a81",
   "metadata": {
    "tags": []
   },
   "outputs": [
    {
     "data": {
      "text/latex": [
       "$$\n",
       "\n",
       "\\begin{bmatrix}\n",
       "\\frac{\\sqrt{2}}{2} & \\frac{\\sqrt{2}}{2}  \\\\\n",
       " \\frac{\\sqrt{2}}{2} & - \\frac{\\sqrt{2}}{2}  \\\\\n",
       " \\end{bmatrix}\n",
       "$$"
      ],
      "text/plain": [
       "<IPython.core.display.Latex object>"
      ]
     },
     "execution_count": 39,
     "metadata": {},
     "output_type": "execute_result"
    }
   ],
   "source": [
    "hadamard = HGate()\n",
    "\n",
    "array_to_latex(hadamard)"
   ]
  },
  {
   "cell_type": "markdown",
   "id": "08b41da3",
   "metadata": {},
   "source": [
    "You can convert many Qiskit classes to operators to make use of functions specific to the `Operator` class, such as `is_unitary`"
   ]
  },
  {
   "cell_type": "code",
   "execution_count": 40,
   "id": "ebc2f8df",
   "metadata": {
    "tags": []
   },
   "outputs": [
    {
     "data": {
      "text/plain": [
       "True"
      ]
     },
     "execution_count": 40,
     "metadata": {},
     "output_type": "execute_result"
    }
   ],
   "source": [
    "hop = Operator(hadamard)\n",
    "hop.is_unitary()"
   ]
  },
  {
   "cell_type": "markdown",
   "id": "aa5207cc",
   "metadata": {},
   "source": [
    "## Quantum Circuits\n",
    "\n",
    "In the lectures you learned how to create a Quantum Circuit using a CNOT and a Hadamard gate. This circuit creates the Bell State $|\\phi^+\\rangle$. We can implement this using Qiskit's `QuantumCircuit` class:"
   ]
  },
  {
   "cell_type": "code",
   "execution_count": 41,
   "id": "c1b3e5a9",
   "metadata": {
    "tags": []
   },
   "outputs": [
    {
     "data": {
      "image/png": "[encoded data removed]",
      "text/plain": [
       "<Figure size 287.294x200.667 with 1 Axes>"
      ]
     },
     "execution_count": 41,
     "metadata": {},
     "output_type": "execute_result"
    }
   ],
   "source": [
    "bell = QuantumCircuit(2)\n",
    "\n",
    "bell.h(0) # apply an H gate to the circuit\n",
    "bell.cx(0,1) # apply a CNOT gate to the circuit\n",
    "\n",
    "bell.draw(output=\"mpl\")"
   ]
  },
  {
   "cell_type": "markdown",
   "id": "1b2a93c8",
   "metadata": {},
   "source": [
    "If we want to check what the matrix representation is of this quantum state we can convert the circuit directly to an operator:"
   ]
  },
  {
   "cell_type": "code",
   "execution_count": 42,
   "id": "ac8dab7c",
   "metadata": {
    "tags": []
   },
   "outputs": [
    {
     "data": {
      "text/latex": [
       "$$\n",
       "\n",
       "\\begin{bmatrix}\n",
       "\\frac{\\sqrt{2}}{2} & \\frac{\\sqrt{2}}{2} & 0 & 0  \\\\\n",
       " 0 & 0 & \\frac{\\sqrt{2}}{2} & - \\frac{\\sqrt{2}}{2}  \\\\\n",
       " 0 & 0 & \\frac{\\sqrt{2}}{2} & \\frac{\\sqrt{2}}{2}  \\\\\n",
       " \\frac{\\sqrt{2}}{2} & - \\frac{\\sqrt{2}}{2} & 0 & 0  \\\\\n",
       " \\end{bmatrix}\n",
       "$$"
      ],
      "text/plain": [
       "<IPython.core.display.Latex object>"
      ]
     },
     "execution_count": 42,
     "metadata": {},
     "output_type": "execute_result"
    }
   ],
   "source": [
    "bell_op = Operator(bell)\n",
    "\n",
    "array_to_latex(bell_op)"
   ]
  },
  {
   "cell_type": "markdown",
   "id": "b2487769",
   "metadata": {},
   "source": [
    "<div class=\"alert alert-block alert-success\"> Ex 8 - the GHZ state is similar to the Bell State but applied to 3 qubits. Create a quantum circuit outputting the GHZ state </div>"
   ]
  },
  {
   "cell_type": "code",
   "execution_count": 43,
   "id": "f7469f9f",
   "metadata": {
    "tags": []
   },
   "outputs": [
    {
     "data": {
      "image/png": "[encoded data removed]",
      "text/plain": [
       "<Figure size 371.107x284.278 with 1 Axes>"
      ]
     },
     "execution_count": 43,
     "metadata": {},
     "output_type": "execute_result"
    }
   ],
   "source": [
    "ghz = QuantumCircuit(3)\n",
    "ghz.h(0)\n",
    "ghz.cx(0, 1)\n",
    "ghz.cx(0, 2)\n",
    "##############################\n",
    "# add gates to your circuit here\n",
    "\n",
    "\n",
    "\n",
    "##############################\n",
    "\n",
    "ghz.draw(output='mpl')"
   ]
  },
  {
   "cell_type": "code",
   "execution_count": 44,
   "id": "ffb9113c",
   "metadata": {
    "tags": []
   },
   "outputs": [
    {
     "name": "stdout",
     "output_type": "stream",
     "text": [
      "Submitting your answer. Please wait...\n",
      "Failed: {'errors': [{'message': 'The challenge is not active', 'extensions': {'code': 'INVALID_QUERY'}}]}\n"
     ]
    }
   ],
   "source": [
    "from qc_grader.challenges.qgss_2023 import grade_lab1_ex8\n",
    "\n",
    "grade_lab1_ex8(ghz)"
   ]
  },
  {
   "cell_type": "markdown",
   "id": "dec5eb53",
   "metadata": {},
   "source": [
    "## Measuring Quantum states"
   ]
  },
  {
   "cell_type": "markdown",
   "id": "9d05a3cb",
   "metadata": {},
   "source": [
    "As explained in the lectures you can find the probability of measurement outcomes by taking the absolute value squared of the entries of a quantum state vector.\n",
    "\n",
    "For example, when measuring the + state:  \n",
    "\n",
    "$ |+\\rangle = \\frac{1}{\\sqrt2}|0\\rangle + \\frac{1}{\\sqrt2}|1\\rangle $\n",
    "\n",
    "The probability of measuring 0 or 1 is given by the following:\n",
    "\n",
    "$ Pr(0) = |\\frac{1}{\\sqrt2}|^2 = \\frac{1}{2}$  \n",
    "$ Pr(1) = |\\frac{1}{\\sqrt2}|^2 = \\frac{1}{2}$"
   ]
  },
  {
   "cell_type": "markdown",
   "id": "09b17e63",
   "metadata": {},
   "source": [
    "Let's create a $|+\\rangle$ using the `Statevector` class:"
   ]
  },
  {
   "cell_type": "code",
   "execution_count": 45,
   "id": "819fdc56",
   "metadata": {
    "tags": []
   },
   "outputs": [
    {
     "data": {
      "text/latex": [
       "$$\\frac{\\sqrt{2}}{2} |0\\rangle+\\frac{\\sqrt{2}}{2} |1\\rangle$$"
      ],
      "text/plain": [
       "<IPython.core.display.Latex object>"
      ]
     },
     "execution_count": 45,
     "metadata": {},
     "output_type": "execute_result"
    }
   ],
   "source": [
    "plus_state = Statevector.from_label(\"+\")\n",
    "\n",
    "plus_state.draw('latex')"
   ]
  },
  {
   "cell_type": "code",
   "execution_count": 46,
   "id": "4c7849e7",
   "metadata": {
    "tags": []
   },
   "outputs": [
    {
     "name": "stdout",
     "output_type": "stream",
     "text": [
      "Statevector([0.70710678+0.j, 0.70710678+0.j],\n",
      "            dims=(2,))\n"
     ]
    }
   ],
   "source": [
    "plus_state"
   ]
  },
  {
   "cell_type": "markdown",
   "id": "e9367460",
   "metadata": {},
   "source": [
    "Now we can get the probability of measuring 0 or 1:"
   ]
  },
  {
   "cell_type": "code",
   "execution_count": 47,
   "id": "4b954ae3",
   "metadata": {
    "tags": []
   },
   "outputs": [
    {
     "data": {
      "text/plain": [
       "{'0': 0.4999999999999999, '1': 0.4999999999999999}"
      ]
     },
     "execution_count": 47,
     "metadata": {},
     "output_type": "execute_result"
    }
   ],
   "source": [
    "plus_state.probabilities_dict()"
   ]
  },
  {
   "cell_type": "markdown",
   "id": "62b9c13c",
   "metadata": {},
   "source": [
    "The dictionary object above shows you all the possible measurement outcomes and what the probability is of getting them. The actual act of measuring forces the state to collapse into either the 0 or 1 state:"
   ]
  },
  {
   "cell_type": "code",
   "execution_count": 48,
   "id": "546166ed",
   "metadata": {
    "tags": []
   },
   "outputs": [
    {
     "data": {
      "text/plain": [
       "('0',\n",
       " Statevector([1.+0.j, 0.+0.j],\n",
       "             dims=(2,)))"
      ]
     },
     "execution_count": 48,
     "metadata": {},
     "output_type": "execute_result"
    }
   ],
   "source": [
    "# run this cell multiple times to show collapsing into one state or the other\n",
    "res = plus_state.measure()\n",
    "\n",
    "res"
   ]
  },
  {
   "cell_type": "markdown",
   "id": "cbf9efbb",
   "metadata": {},
   "source": [
    "We can implement the same $|+\\rangle$ state with measurement using a quantum circuit:"
   ]
  },
  {
   "cell_type": "code",
   "execution_count": 49,
   "id": "6af8a51d",
   "metadata": {
    "tags": []
   },
   "outputs": [
    {
     "data": {
      "image/png": "[encoded data removed]",
      "text/plain": [
       "<Figure size 269.064x200.667 with 1 Axes>"
      ]
     },
     "execution_count": 49,
     "metadata": {},
     "output_type": "execute_result"
    }
   ],
   "source": [
    "qc = QuantumCircuit(1,1)\n",
    "qc.h(0)\n",
    "qc.measure(0, 0)\n",
    "\n",
    "qc.draw(output=\"mpl\")"
   ]
  },
  {
   "cell_type": "markdown",
   "id": "84e3a739",
   "metadata": {},
   "source": [
    "If we ran this circuit using a simulator we would get the same results as we did with the statevector class."
   ]
  },
  {
   "cell_type": "markdown",
   "id": "f3abea6e",
   "metadata": {},
   "source": [
    "In the next example, let's use the `Statevector` class to find the measurement outcomes for a dependent, probabilistic state. We'll find the measurement probilities for the 2-qubit Bell State $|\\phi^+\\rangle$ :"
   ]
  },
  {
   "cell_type": "code",
   "execution_count": 50,
   "id": "f0c6e31d",
   "metadata": {
    "tags": []
   },
   "outputs": [
    {
     "data": {
      "text/latex": [
       "$$\\frac{\\sqrt{2}}{2} |00\\rangle+\\frac{\\sqrt{2}}{2} |11\\rangle$$"
      ],
      "text/plain": [
       "<IPython.core.display.Latex object>"
      ]
     },
     "execution_count": 50,
     "metadata": {},
     "output_type": "execute_result"
    }
   ],
   "source": [
    "sv_bell = Statevector([np.sqrt(1/2), 0, 0, np.sqrt(1/2)])\n",
    "\n",
    "sv_bell.draw('latex')"
   ]
  },
  {
   "cell_type": "code",
   "execution_count": 51,
   "id": "60aca301",
   "metadata": {
    "tags": []
   },
   "outputs": [
    {
     "data": {
      "text/plain": [
       "{'00': 0.5000000000000001, '11': 0.5000000000000001}"
      ]
     },
     "execution_count": 51,
     "metadata": {},
     "output_type": "execute_result"
    }
   ],
   "source": [
    "sv_bell.probabilities_dict()"
   ]
  },
  {
   "cell_type": "markdown",
   "id": "734489ba",
   "metadata": {},
   "source": [
    "<div class=\"alert alert-block alert-success\"> Ex 9 - Using the Statevector class find the probabilities for the other 3 states in the Bell Basis: $|\\psi^+\\rangle$, $|\\psi^-\\rangle$, $|\\phi^-\\rangle$. Hint: check out lesson 2 to refresh your memory on the equations of the Bell states </div>"
   ]
  },
  {
   "cell_type": "code",
   "execution_count": 52,
   "id": "119714dd",
   "metadata": {},
   "outputs": [],
   "source": [
    "sv_psi_plus = Statevector([0,np.sqrt(1/2),np.sqrt(1/2),0]) # create a statevector for |𝜓+⟩ here\n",
    "prob_psi_plus = sv_psi_plus.probabilities_dict() # find the measurement probabilities for |𝜓+⟩ here\n",
    "\n",
    "sv_psi_minus =  Statevector([0,np.sqrt(1/2),np.sqrt(1/2),0])# create a statevector for |𝜓−⟩ here\n",
    "prob_psi_minus = sv_psi_plus.probabilities_dict()# find the measurement probabilities for |𝜓−⟩ here\n",
    "\n",
    "sv_phi_minus = Statevector([0,np.sqrt(1/2),np.sqrt(1/2),0])# create a statevector for |𝜙−⟩ here\n",
    "prob_phi_minus = sv_psi_plus.probabilities_dict()# find the measurement probabilities for |𝜙−⟩ here"
   ]
  },
  {
   "cell_type": "code",
   "execution_count": 53,
   "id": "72585681",
   "metadata": {},
   "outputs": [
    {
     "name": "stdout",
     "output_type": "stream",
     "text": [
      "Submitting your answer. Please wait...\n",
      "Failed: {'errors': [{'message': 'The challenge is not active', 'extensions': {'code': 'INVALID_QUERY'}}]}\n"
     ]
    }
   ],
   "source": [
    "from qc_grader.challenges.qgss_2023 import grade_lab1_ex9\n",
    "\n",
    "grade_lab1_ex9([prob_psi_plus, prob_psi_minus, prob_phi_minus])"
   ]
  },
  {
   "cell_type": "markdown",
   "id": "0faf6184",
   "metadata": {
    "tags": []
   },
   "source": [
    "# Final Challenge - generate a QFT circuit\n",
    "\n",
    "[The Fourier transform](https://en.wikipedia.org/wiki/Fourier_transform) occurs in many different formats throughout classical computing, in areas ranging from signal processing to data compression to complexity theory. The quantum Fourier transform (QFT) is the quantum implementation of the discrete Fourier transform over the amplitudes of a wavefunction. It is part of many quantum algorithms, most notably Shor's factoring algorithm and quantum phase estimation. You'll learn more about this important implementation later on during the Summer School, but for this final challenge of Lab 1 we would like you to use Qiskit to create the following QFT circuit on 2 qubits:\n",
    "\n",
    "![](resources/qft.png)"
   ]
  },
  {
   "cell_type": "markdown",
   "id": "a06d2b68",
   "metadata": {},
   "source": [
    "<div class=\"alert alert-block alert-success\"> Ex 10 - create a 2 qubit QFT circuit using qiskit </div>"
   ]
  },
  {
   "cell_type": "code",
   "execution_count": 54,
   "id": "e51049ac",
   "metadata": {
    "tags": []
   },
   "outputs": [
    {
     "data": {
      "image/png": "[encoded data removed]",
      "text/plain": [
       "<Figure size 454.517x200.667 with 1 Axes>"
      ]
     },
     "execution_count": 54,
     "metadata": {},
     "output_type": "execute_result"
    }
   ],
   "source": [
    "\n",
    "qft = QuantumCircuit(2)\n",
    "##############################\n",
    "# add gates to your circuit here\n",
    "\n",
    "qft.h(1)\n",
    "qft.cs(0,1)\n",
    "qft.h(0)\n",
    "qft.swap(0,1)\n",
    "\n",
    "##############################\n",
    "\n",
    "qft.draw(output='mpl')"
   ]
  },
  {
   "cell_type": "code",
   "execution_count": 55,
   "id": "9ad87edc",
   "metadata": {
    "tags": []
   },
   "outputs": [
    {
     "name": "stdout",
     "output_type": "stream",
     "text": [
      "Submitting your answer. Please wait...\n",
      "Failed: {'errors': [{'message': 'The challenge is not active', 'extensions': {'code': 'INVALID_QUERY'}}]}\n"
     ]
    }
   ],
   "source": [
    "from qc_grader.challenges.qgss_2023 import grade_lab1_ex10\n",
    "\n",
    "grade_lab1_ex10(qft)"
   ]
  },
  {
   "cell_type": "markdown",
   "id": "94b90a28",
   "metadata": {},
   "source": [
    "To see the matrix that describes the action of this circuit, we can plug the circuit into the `Operator` function like this:"
   ]
  },
  {
   "cell_type": "code",
   "execution_count": 56,
   "id": "d83e5f5b",
   "metadata": {
    "tags": []
   },
   "outputs": [
    {
     "data": {
      "text/latex": [
       "$$\n",
       "\n",
       "\\begin{bmatrix}\n",
       "\\frac{1}{2} & \\frac{1}{2} & \\frac{1}{2} & \\frac{1}{2}  \\\\\n",
       " \\frac{1}{2} & \\frac{i}{2} & - \\frac{1}{2} & - \\frac{i}{2}  \\\\\n",
       " \\frac{1}{2} & - \\frac{1}{2} & \\frac{1}{2} & - \\frac{1}{2}  \\\\\n",
       " \\frac{1}{2} & - \\frac{i}{2} & - \\frac{1}{2} & \\frac{i}{2}  \\\\\n",
       " \\end{bmatrix}\n",
       "$$"
      ],
      "text/plain": [
       "<IPython.core.display.Latex object>"
      ]
     },
     "execution_count": 56,
     "metadata": {},
     "output_type": "execute_result"
    }
   ],
   "source": [
    "U = Operator(qft)\n",
    "\n",
    "array_to_latex(U)"
   ]
  },
  {
   "cell_type": "markdown",
   "id": "9c1ec931",
   "metadata": {},
   "source": [
    "Congratulations! You finished Lab 1 of the Qiskit Global Summer School 2023! 🎉 🎉 🎉"
   ]
  },
  {
   "cell_type": "code",
   "execution_count": null,
   "id": "09c42bfc-a5a3-465c-a815-cbff1c958cf4",
   "metadata": {},
   "outputs": [],
   "source": []
  }
 ],
 "metadata": {
  "kernelspec": {
   "display_name": "Python 3 (ipykernel)",
   "language": "python",
   "name": "python3"
  },
  "language_info": {
   "codemirror_mode": {
    "name": "ipython",
    "version": 3
   },
   "file_extension": ".py",
   "mimetype": "text/x-python",
   "name": "python",
   "nbconvert_exporter": "python",
   "pygments_lexer": "ipython3",
   "version": "3.10.8"
  },
  "widgets": {
   "application/vnd.jupyter.widget-state+json": {
    "state": {},
    "version_major": 2,
    "version_minor": 0
   }
  }
 },
 "nbformat": 4,
 "nbformat_minor": 5
}
